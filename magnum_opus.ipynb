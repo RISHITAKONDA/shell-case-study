{
 "cells": [
  {
   "cell_type": "code",
   "execution_count": 1,
   "metadata": {},
   "outputs": [],
   "source": [
    "import nltk"
   ]
  },
  {
   "cell_type": "code",
   "execution_count": 33,
   "metadata": {},
   "outputs": [],
   "source": [
    "#Import tokenizer\n",
    "from nltk.tokenize import word_tokenize\n",
    "text1=\"The Himalayas from the Sanskrit words hima, “snow,” and alaya, “abode”, the loftiest mountain system in the world, form the northern limit of India. That great, geologically young mountain arc is about 1,550 miles  long, stretching from the peak of Nanga Parbat  in the Pakistani-administered portion of the Kashmir region to the Namcha Barwa peak in the Tibet Autonomous Region of China. Between those extremes the mountains fall across India, southern Tibet, Nepal, and Bhutan.The Himalayas serve as the natural barrier and separate the Indian Continent and Tibet. Majority of the Himalayan regions form a part of India.The Himalayas plays an integral role in Buddhism, Islam and Christianity apart from Hinduism. It is given a divine status in all these religions.\"\n",
    "text2=\"Himalayan mountain range is one of the youngest mountain range in the world. It is located in the northern border of India and separates Indian subcontinent from other countries of Asia.Himalayan mountain range was formed about 70 million years ago in Jurassic Era when Indian tectonic plate collided with Eurasian Plate. These plates are still moving and as a result the height of the mountain is also increasing.It is about 2400 km long having shape of an arc. Its width varies between 150-400 km. It has three parallel mountain ranges- Lesser Himalaya or Himchal, Greater Himalaya or Himadri, Outer Himalaya or Siwaliks.It is given a divine status in all these religions.\"\n",
    "\n"
   ]
  },
  {
   "cell_type": "code",
   "execution_count": 6,
   "metadata": {},
   "outputs": [
    {
     "name": "stdout",
     "output_type": "stream",
     "text": [
      "the himalaya from the sanskrit word hima, “snow,” and alaya, “abode”, the loftiest mountain system in the world, form the northern limit of india. that great, geolog young mountain arc is about 1,550 mile  long, stretch from the peak of nanga parbat  in the pakistani-administ portion of the kashmir region to the namcha barwa peak in the tibet autonom region of china. between those extrem the mountain fall across india, southern tibet, nepal, and bhutan.th himalaya serv as the natur barrier and separ the indian contin and tibet. major of the himalayan region form a part of india.th himalaya play an integr role in buddhism, islam and christian apart from hinduism. It is given a divin statu in all these religions.\n"
     ]
    }
   ],
   "source": [
    "#stemmming text1 using porter stemmer\n",
    "from nltk.stem import PorterStemmer\n",
    "stemmer=PorterStemmer()\n",
    "type1=[stemmer.stem(token) for token in text1.split(\" \")]\n",
    "x1=\" \".join(type1)\n",
    "print(x1)"
   ]
  },
  {
   "cell_type": "code",
   "execution_count": 5,
   "metadata": {},
   "outputs": [
    {
     "name": "stdout",
     "output_type": "stream",
     "text": [
      "himalayan mountain rang is one of the youngest mountain rang in the world. It is locat in the northern border of india and separ indian subcontin from other countri of asia.himalayan mountain rang wa form about 70 million year ago in jurass era when indian tecton plate collid with eurasian plate. these plate are still move and as a result the height of the mountain is also increasing.it is about 2400 km long have shape of an arc. it width vari between 150-400 km. It ha three parallel mountain ranges- lesser himalaya or himchal, greater himalaya or himadri, outer himalaya or siwaliks.it is given a divin statu in all these religions.\n"
     ]
    }
   ],
   "source": [
    "#porter stemmer\n",
    "from nltk.stem import PorterStemmer\n",
    "stemmer=PorterStemmer()\n",
    "type2=[stemmer.stem(token) for token in text2.split(\" \")]\n",
    "x=\" \".join(type2)\n",
    "print(x)"
   ]
  },
  {
   "cell_type": "code",
   "execution_count": 13,
   "metadata": {},
   "outputs": [
    {
     "data": {
      "text/plain": [
       "'the himalaya from the sanskrit word hima, “snow,” and alaya, “abode”, the loftiest mountain system in the world, form the northern limit of india. that great, geolog young mountain arc is about 1,550 mil long, stretching from the peak of nang parb in the pakistani-administered port of the kashmir reg to the namch barw peak in the tibet autonom reg of china. between thos extrem the mountain fal across india, southern tibet, nepal, and bhutan.the himalaya serv as the nat barry and sep the ind contin and tibet. maj of the himalay reg form a part of india.the himalaya play an integr rol in buddhism, islam and christianity apart from hinduism. it is giv a divin stat in al thes religions.'"
      ]
     },
     "execution_count": 13,
     "metadata": {},
     "output_type": "execute_result"
    }
   ],
   "source": [
    "#lancasterStemmer\n",
    "from nltk.stem import LancasterStemmer\n",
    "LanStem=LancasterStemmer()\n",
    "l=[LanStem.stem(word) for word in text1.split()]\n",
    "l=\" \".join(l)\n",
    "l\n",
    "\n"
   ]
  },
  {
   "cell_type": "code",
   "execution_count": 22,
   "metadata": {},
   "outputs": [
    {
     "data": {
      "text/plain": [
       "CountVectorizer(analyzer='word', binary=True, decode_error='strict',\n",
       "                dtype=<class 'numpy.int64'>, encoding='utf-8', input='content',\n",
       "                lowercase=True, max_df=1.0, max_features=None, min_df=1,\n",
       "                ngram_range=(1, 1), preprocessor=None, stop_words=None,\n",
       "                strip_accents=None, token_pattern='(?u)\\\\b\\\\w\\\\w+\\\\b',\n",
       "                tokenizer=None, vocabulary=None)"
      ]
     },
     "execution_count": 22,
     "metadata": {},
     "output_type": "execute_result"
    }
   ],
   "source": [
    "#vectorize \n",
    "from sklearn.feature_extraction.text import CountVectorizer\n",
    "vector1= CountVectorizer(binary=True)\n",
    "corpus1=[x,l]\n",
    "vector1.fit(corpus1)"
   ]
  },
  {
   "cell_type": "code",
   "execution_count": 27,
   "metadata": {},
   "outputs": [
    {
     "data": {
      "text/plain": [
       "CountVectorizer(analyzer='word', binary=True, decode_error='strict',\n",
       "                dtype=<class 'numpy.int64'>, encoding='utf-8', input='content',\n",
       "                lowercase=True, max_df=1.0, max_features=None, min_df=1,\n",
       "                ngram_range=(1, 1), preprocessor=None, stop_words=None,\n",
       "                strip_accents=None, token_pattern='(?u)\\\\b\\\\w\\\\w+\\\\b',\n",
       "                tokenizer=None, vocabulary=None)"
      ]
     },
     "execution_count": 27,
     "metadata": {},
     "output_type": "execute_result"
    }
   ],
   "source": [
    "from sklearn.feature_extraction.text import CountVectorizer\n",
    "vector3= CountVectorizer(binary=True)\n",
    "corpus3=[x1,x]\n",
    "vector3.fit(corpus3)"
   ]
  },
  {
   "cell_type": "code",
   "execution_count": 26,
   "metadata": {},
   "outputs": [
    {
     "data": {
      "text/plain": [
       "CountVectorizer(analyzer='word', binary=True, decode_error='strict',\n",
       "                dtype=<class 'numpy.int64'>, encoding='utf-8', input='content',\n",
       "                lowercase=True, max_df=1.0, max_features=None, min_df=1,\n",
       "                ngram_range=(1, 1), preprocessor=None, stop_words=None,\n",
       "                strip_accents=None, token_pattern='(?u)\\\\b\\\\w\\\\w+\\\\b',\n",
       "                tokenizer=None, vocabulary=None)"
      ]
     },
     "execution_count": 26,
     "metadata": {},
     "output_type": "execute_result"
    }
   ],
   "source": [
    "from sklearn.feature_extraction.text import CountVectorizer\n",
    "vector2= CountVectorizer(binary=True)\n",
    "corpus2=[text1,text2]\n",
    "vector2.fit(corpus2)"
   ]
  },
  {
   "cell_type": "code",
   "execution_count": 28,
   "metadata": {},
   "outputs": [
    {
     "data": {
      "text/plain": [
       "{'himalayan': 52,\n",
       " 'mountain': 75,\n",
       " 'rang': 95,\n",
       " 'is': 61,\n",
       " 'one': 83,\n",
       " 'of': 82,\n",
       " 'the': 117,\n",
       " 'youngest': 133,\n",
       " 'in': 55,\n",
       " 'world': 130,\n",
       " 'it': 63,\n",
       " 'locat': 69,\n",
       " 'northern': 81,\n",
       " 'border': 26,\n",
       " 'india': 58,\n",
       " 'and': 15,\n",
       " 'separ': 103,\n",
       " 'indian': 59,\n",
       " 'subcontin': 113,\n",
       " 'from': 39,\n",
       " 'other': 85,\n",
       " 'countri': 32,\n",
       " 'asia': 20,\n",
       " 'wa': 125,\n",
       " 'form': 38,\n",
       " 'about': 6,\n",
       " '70': 4,\n",
       " 'million': 74,\n",
       " 'year': 131,\n",
       " 'ago': 9,\n",
       " 'jurass': 64,\n",
       " 'era': 34,\n",
       " 'when': 126,\n",
       " 'tecton': 115,\n",
       " 'plate': 92,\n",
       " 'collid': 30,\n",
       " 'with': 128,\n",
       " 'eurasian': 35,\n",
       " 'these': 119,\n",
       " 'are': 18,\n",
       " 'still': 111,\n",
       " 'move': 76,\n",
       " 'as': 19,\n",
       " 'result': 99,\n",
       " 'height': 47,\n",
       " 'also': 13,\n",
       " 'increasing': 56,\n",
       " '2400': 1,\n",
       " 'km': 66,\n",
       " 'long': 71,\n",
       " 'have': 46,\n",
       " 'shape': 105,\n",
       " 'an': 14,\n",
       " 'arc': 17,\n",
       " 'width': 127,\n",
       " 'vari': 124,\n",
       " 'between': 24,\n",
       " '150': 0,\n",
       " '400': 2,\n",
       " 'ha': 45,\n",
       " 'three': 121,\n",
       " 'parallel': 88,\n",
       " 'ranges': 96,\n",
       " 'lesser': 67,\n",
       " 'himalaya': 51,\n",
       " 'or': 84,\n",
       " 'himchal': 53,\n",
       " 'greater': 44,\n",
       " 'himadri': 49,\n",
       " 'outer': 86,\n",
       " 'siwaliks': 106,\n",
       " 'given': 42,\n",
       " 'divin': 33,\n",
       " 'statu': 110,\n",
       " 'all': 12,\n",
       " 'religions': 98,\n",
       " 'sanskrit': 101,\n",
       " 'word': 129,\n",
       " 'hima': 48,\n",
       " 'snow': 107,\n",
       " 'alaya': 11,\n",
       " 'abode': 5,\n",
       " 'loftiest': 70,\n",
       " 'system': 114,\n",
       " 'limit': 68,\n",
       " 'that': 116,\n",
       " 'great': 43,\n",
       " 'geolog': 40,\n",
       " 'young': 132,\n",
       " '550': 3,\n",
       " 'mil': 73,\n",
       " 'stretching': 112,\n",
       " 'peak': 91,\n",
       " 'nang': 78,\n",
       " 'parb': 89,\n",
       " 'pakistani': 87,\n",
       " 'administered': 8,\n",
       " 'port': 94,\n",
       " 'kashmir': 65,\n",
       " 'reg': 97,\n",
       " 'to': 123,\n",
       " 'namch': 77,\n",
       " 'barw': 23,\n",
       " 'tibet': 122,\n",
       " 'autonom': 21,\n",
       " 'china': 28,\n",
       " 'thos': 120,\n",
       " 'extrem': 36,\n",
       " 'fal': 37,\n",
       " 'across': 7,\n",
       " 'southern': 108,\n",
       " 'nepal': 80,\n",
       " 'bhutan': 25,\n",
       " 'serv': 104,\n",
       " 'nat': 79,\n",
       " 'barry': 22,\n",
       " 'sep': 102,\n",
       " 'ind': 57,\n",
       " 'contin': 31,\n",
       " 'maj': 72,\n",
       " 'himalay': 50,\n",
       " 'part': 90,\n",
       " 'play': 93,\n",
       " 'integr': 60,\n",
       " 'rol': 100,\n",
       " 'buddhism': 27,\n",
       " 'islam': 62,\n",
       " 'christianity': 29,\n",
       " 'apart': 16,\n",
       " 'hinduism': 54,\n",
       " 'giv': 41,\n",
       " 'stat': 109,\n",
       " 'al': 10,\n",
       " 'thes': 118}"
      ]
     },
     "execution_count": 28,
     "metadata": {},
     "output_type": "execute_result"
    }
   ],
   "source": [
    "vocab1=vector1.vocabulary_\n",
    "vocab1"
   ]
  },
  {
   "cell_type": "code",
   "execution_count": 25,
   "metadata": {},
   "outputs": [
    {
     "data": {
      "text/plain": [
       "134"
      ]
     },
     "execution_count": 25,
     "metadata": {},
     "output_type": "execute_result"
    }
   ],
   "source": [
    "len(vocab1)"
   ]
  },
  {
   "cell_type": "code",
   "execution_count": 29,
   "metadata": {},
   "outputs": [
    {
     "data": {
      "text/plain": [
       "134"
      ]
     },
     "execution_count": 29,
     "metadata": {},
     "output_type": "execute_result"
    }
   ],
   "source": [
    "vocab2=vector2.vocabulary_\n",
    "vocab2\n",
    "len(vocab1)"
   ]
  },
  {
   "cell_type": "code",
   "execution_count": 30,
   "metadata": {},
   "outputs": [
    {
     "name": "stdout",
     "output_type": "stream",
     "text": [
      "[[0.3145214]]\n"
     ]
    }
   ],
   "source": [
    "#cosine similarity\n",
    "from sklearn.metrics.pairwise import cosine_similarity\n",
    "similarity = cosine_similarity(vector2.transform([text1]).toarray(), vector2.transform([text2]).toarray())\n",
    "print(similarity)"
   ]
  },
  {
   "cell_type": "code",
   "execution_count": 31,
   "metadata": {},
   "outputs": [
    {
     "name": "stdout",
     "output_type": "stream",
     "text": [
      "[[0.50847518]]\n"
     ]
    }
   ],
   "source": [
    "from sklearn.metrics.pairwise import cosine_similarity\n",
    "similarity = cosine_similarity(vector1.transform([text1]).toarray(), vector2.transform([text2]).toarray())\n",
    "print(similarity)"
   ]
  },
  {
   "cell_type": "code",
   "execution_count": null,
   "metadata": {},
   "outputs": [],
   "source": []
  },
  {
   "cell_type": "code",
   "execution_count": null,
   "metadata": {},
   "outputs": [],
   "source": []
  }
 ],
 "metadata": {
  "kernelspec": {
   "display_name": "Python 3",
   "language": "python",
   "name": "python3"
  },
  "language_info": {
   "codemirror_mode": {
    "name": "ipython",
    "version": 3
   },
   "file_extension": ".py",
   "mimetype": "text/x-python",
   "name": "python",
   "nbconvert_exporter": "python",
   "pygments_lexer": "ipython3",
   "version": "3.7.6"
  }
 },
 "nbformat": 4,
 "nbformat_minor": 4
}
