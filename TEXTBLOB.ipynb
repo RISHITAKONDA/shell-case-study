{
 "cells": [
  {
   "cell_type": "code",
   "execution_count": 1,
   "metadata": {},
   "outputs": [],
   "source": [
    "from textblob import TextBlob"
   ]
  },
  {
   "cell_type": "code",
   "execution_count": 2,
   "metadata": {},
   "outputs": [
    {
     "data": {
      "text/plain": [
       "[Sentence(\"Hi Rishita Konda\")]"
      ]
     },
     "execution_count": 2,
     "metadata": {},
     "output_type": "execute_result"
    }
   ],
   "source": [
    "# HELLO !\n",
    "\n",
    "blob= TextBlob(\"Hi Rishita Konda\")\n",
    "blob.sentences\n"
   ]
  },
  {
   "cell_type": "code",
   "execution_count": 17,
   "metadata": {},
   "outputs": [
    {
     "name": "stdout",
     "output_type": "stream",
     "text": [
      "Hi NNP\n",
      "this DT\n",
      "is VBZ\n",
      "rishita JJ\n",
      "konda NN\n",
      "Hope NN\n",
      "you PRP\n",
      "have VBP\n",
      "a DT\n",
      "lovely JJ\n",
      "day NN\n"
     ]
    }
   ],
   "source": [
    "# PARTS OF SPEECH:\n",
    "\n",
    "from textblob import TextBlob\n",
    "blob = TextBlob(\"Hi this is rishita konda . Hope you have a lovely day!\")\n",
    "for word, pos in blob.tags:\n",
    "    print (word, pos)"
   ]
  },
  {
   "cell_type": "code",
   "execution_count": 22,
   "metadata": {},
   "outputs": [
    {
     "name": "stdout",
     "output_type": "stream",
     "text": [
      "formulae\n"
     ]
    }
   ],
   "source": [
    "# PLURALIZATION:\n",
    "\n",
    "from textblob import Word\n",
    "W= Word(\"formula\")\n",
    "print(W.pluralize())"
   ]
  },
  {
   "cell_type": "code",
   "execution_count": 23,
   "metadata": {},
   "outputs": [
    {
     "name": "stdout",
     "output_type": "stream",
     "text": [
      "beautifully\n"
     ]
    }
   ],
   "source": [
    "# LEMMATIZATION:\n",
    "\n",
    "x=Word(\"beautifully\")\n",
    "print(x.lemmatize())"
   ]
  },
  {
   "cell_type": "code",
   "execution_count": 31,
   "metadata": {},
   "outputs": [
    {
     "name": "stdout",
     "output_type": "stream",
     "text": [
      "[Synset('drive.n.08'), Synset('ride.n.02'), Synset('ride.v.01'), Synset('ride.v.02'), Synset('ride.v.03'), Synset('ride.v.04'), Synset('tease.v.02'), Synset('ride.v.06'), Synset('drive.v.12'), Synset('depend_on.v.01'), Synset('ride.v.09'), Synset('ride.v.10'), Synset('ride.v.11'), Synset('ride.v.12'), Synset('ride.v.13'), Synset('ride.v.14')]\n"
     ]
    }
   ],
   "source": [
    "# WORDNET:\n",
    "\n",
    "from textblob import Word\n",
    "bank = Word(\"ride\")\n",
    "synsets = bank.synsets\n",
    "print(synsets)"
   ]
  },
  {
   "cell_type": "code",
   "execution_count": 33,
   "metadata": {},
   "outputs": [
    {
     "name": "stdout",
     "output_type": "stream",
     "text": [
      "a journey in a vehicle (usually an automobile)\n",
      "a mechanical device that you ride for amusement or excitement\n",
      "sit and travel on the back of animal, usually while controlling its motions\n",
      "be carried or travel on or in a vehicle\n",
      "continue undisturbed and without interference\n",
      "move like a floating object\n",
      "harass with persistent criticism or carping\n",
      "be sustained or supported or borne\n",
      "have certain properties when driven\n",
      "be contingent on\n",
      "lie moored or anchored\n",
      "sit on and control a vehicle\n",
      "climb up on the body\n",
      "ride over, along, or through\n",
      "keep partially engaged by slightly depressing a pedal with the foot\n",
      "copulate with\n"
     ]
    }
   ],
   "source": [
    "# TO PRINT WORNET'S DEFINITION:\n",
    "\n",
    "synsets = Word(\"ride\").synsets\n",
    "for synset in synsets:\n",
    "    print(synset.definition())"
   ]
  },
  {
   "cell_type": "code",
   "execution_count": null,
   "metadata": {},
   "outputs": [],
   "source": []
  }
 ],
 "metadata": {
  "kernelspec": {
   "display_name": "Python 3",
   "language": "python",
   "name": "python3"
  },
  "language_info": {
   "codemirror_mode": {
    "name": "ipython",
    "version": 3
   },
   "file_extension": ".py",
   "mimetype": "text/x-python",
   "name": "python",
   "nbconvert_exporter": "python",
   "pygments_lexer": "ipython3",
   "version": "3.7.6"
  }
 },
 "nbformat": 4,
 "nbformat_minor": 4
}
