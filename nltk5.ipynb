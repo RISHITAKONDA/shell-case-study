{
 "cells": [
  {
   "cell_type": "code",
   "execution_count": 1,
   "metadata": {},
   "outputs": [],
   "source": [
    "import spacy\n",
    "s=spacy.load(\"en_core_web_sm\");\n"
   ]
  },
  {
   "cell_type": "code",
   "execution_count": 5,
   "metadata": {},
   "outputs": [],
   "source": [
    "exmaple1=\"Salar de Uyuni, Bolivia. The worlds largest salt flat, it creates a mirror effect after the rain.Angkor wat, Cambodia. Beautiful ancient temple ruins.Cinque Terre, Rio Maggiore, Italy. The 5 Lands of colored homes perched on a cliff by the sea.Blue Lagoon, Iceland. Natural thermal hot springs.Maldives, This archipelago is the ultimate tropical island paradise.Yellowstone National Park, Wyoming, USA. Home of the famous Old Faithful Geyser.\""
   ]
  },
  {
   "cell_type": "code",
   "execution_count": 6,
   "metadata": {},
   "outputs": [
    {
     "name": "stdout",
     "output_type": "stream",
     "text": [
      "Bolivia GPE\n",
      "wat GPE\n",
      "Cambodia GPE\n",
      "Cinque Terre PERSON\n",
      "Rio Maggiore PERSON\n",
      "Italy GPE\n",
      "5 CARDINAL\n",
      "Blue Lagoon GPE\n",
      "Iceland GPE\n",
      "Yellowstone National Park ORG\n",
      "Wyoming GPE\n",
      "USA GPE\n",
      "Old Faithful Geyser WORK_OF_ART\n"
     ]
    }
   ],
   "source": [
    "doc=s(exmaple1)\n",
    "\n",
    "for ent in doc.ents:\n",
    "    print(ent.text,ent.label_)"
   ]
  },
  {
   "cell_type": "code",
   "execution_count": 10,
   "metadata": {},
   "outputs": [],
   "source": [
    "example2=\"Our first organised resistance to destruction of forests, the Chipko movement,  began in 1974.Probably one of the most noted movements in Indian history, Satyagraha brought thousands of people together in a peaceful way. The non-violence movement started by Mahatma Gandhi to send the British back to their country and leave India free of foreign rule did eventually taste success.\""
   ]
  },
  {
   "cell_type": "code",
   "execution_count": 12,
   "metadata": {},
   "outputs": [],
   "source": [
    "doc2=s(example2)"
   ]
  },
  {
   "cell_type": "code",
   "execution_count": 13,
   "metadata": {},
   "outputs": [
    {
     "name": "stdout",
     "output_type": "stream",
     "text": [
      "first ORDINAL\n",
      "Chipko ORG\n",
      "Indian NORP\n",
      "Satyagraha PERSON\n",
      "thousands CARDINAL\n",
      "Mahatma Gandhi PERSON\n",
      "British NORP\n",
      "India GPE\n"
     ]
    }
   ],
   "source": [
    "\n",
    "for ent in doc2.ents:\n",
    "    print(ent.text,ent.label_)"
   ]
  },
  {
   "cell_type": "code",
   "execution_count": 14,
   "metadata": {},
   "outputs": [],
   "source": [
    "#Quering\n",
    "locs = [('Omnicom', 'IN', 'New York'),('DDB Needham', 'IN', 'New York'), ('Kaplan Thaler Group', 'IN', 'New York'),('BBDO South', 'IN', 'Atlanta'), ('Georgia-Pacific', 'IN', 'Atlanta')]"
   ]
  },
  {
   "cell_type": "code",
   "execution_count": 15,
   "metadata": {},
   "outputs": [],
   "source": [
    "query=[e1 for (e1,rel,e2) in locs if e2=='Atlanta']"
   ]
  },
  {
   "cell_type": "code",
   "execution_count": 16,
   "metadata": {},
   "outputs": [
    {
     "name": "stdout",
     "output_type": "stream",
     "text": [
      "['BBDO South', 'Georgia-Pacific']\n"
     ]
    }
   ],
   "source": [
    "print(query)"
   ]
  },
  {
   "cell_type": "code",
   "execution_count": null,
   "metadata": {},
   "outputs": [],
   "source": []
  }
 ],
 "metadata": {
  "kernelspec": {
   "display_name": "Python 3",
   "language": "python",
   "name": "python3"
  },
  "language_info": {
   "codemirror_mode": {
    "name": "ipython",
    "version": 3
   },
   "file_extension": ".py",
   "mimetype": "text/x-python",
   "name": "python",
   "nbconvert_exporter": "python",
   "pygments_lexer": "ipython3",
   "version": "3.7.6"
  }
 },
 "nbformat": 4,
 "nbformat_minor": 4
}
